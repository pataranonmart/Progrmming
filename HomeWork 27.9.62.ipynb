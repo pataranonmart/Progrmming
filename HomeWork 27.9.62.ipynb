{
 "cells": [
  {
   "cell_type": "code",
   "execution_count": 10,
   "metadata": {},
   "outputs": [
    {
     "name": "stdout",
     "output_type": "stream",
     "text": [
      "มีกระดูม50\n",
      "นำกระดูมไปติดเสื้อ25\n",
      "จะเหลือกระดูม 25 เม็ด\n"
     ]
    }
   ],
   "source": [
    "#ข้อที่1.มีกระดุม 50 เม็ด ถ้านำไปติดเสื้อ 24 เม็ดจะเหลือกระดุมกี่เม็ด\n",
    "a=int(input(\"มีกระดูม\"))\n",
    "b=int(input(\"นำกระดูมไปติดเสื้อ\"))\n",
    "print(\"จะเหลือกระดูม\",a-b,\"เม็ด\")\n",
    "    \n",
    "      "
   ]
  },
  {
   "cell_type": "code",
   "execution_count": 1,
   "metadata": {},
   "outputs": [
    {
     "name": "stdout",
     "output_type": "stream",
     "text": [
      "จำนวนเด็ก10\n",
      "ได้ขนมคนละ5\n",
      "เด็กๆจะได้ขนมรวมกัน 50 ห่อ\n"
     ]
    }
   ],
   "source": [
    "#ข้อที่2.เด็ก 9 คน ได้ขนมคนละ 5 ห่อ รวมเป็นขนมทั้งหมด \n",
    "a=int(input(\"จำนวนเด็ก\"))\n",
    "b=int(input(\"ได้ขนมคนละ\"))\n",
    "print(\"เด็กๆจะได้ขนมรวมกัน\",a*b,\"ห่อ\")"
   ]
  },
  {
   "cell_type": "code",
   "execution_count": 6,
   "metadata": {},
   "outputs": [
    {
     "name": "stdout",
     "output_type": "stream",
     "text": [
      "Enter binary number: 110\n",
      "6\n"
     ]
    }
   ],
   "source": [
    "#ข้อที่3.โปรแกรมแปลงจากเลขฐาน 2 เป็นฐาน 10\n",
    "x = input(\"Enter binary number: \")\n",
    "d = len(x)-1\n",
    "sum = 0\n",
    "for y in x:\n",
    "   if y == '1':\n",
    "      sum = sum+2**d\n",
    "   d = d-1\n",
    "print(sum)"
   ]
  },
  {
   "cell_type": "code",
   "execution_count": 7,
   "metadata": {},
   "outputs": [
    {
     "name": "stdout",
     "output_type": "stream",
     "text": [
      "Fill Out A :10\n",
      "Fill Out B :25\n",
      "Fill Out D :25\n",
      "c = 5.862526869561879 cm.\n"
     ]
    }
   ],
   "source": [
    "#ข้อที่4.โปรแกรมคำนวณพื้นที่สามเหลี่ยมที่ทราบความยาวด้านสองด้าน (aกับb) และมุมระหว่างด้านสองด้านนั้น(c)\n",
    "import math\n",
    "A = float(input(\"Fill Out A :\"))\n",
    "B = float(input(\"Fill Out B :\"))\n",
    "D = float(input(\"Fill Out D :\"))\n",
    "C = D*math.pi/180\n",
    "c = math.sqrt((a*a)+(b*b)-(2*a*b*math.cos(C)))\n",
    "print(\"c =\", c, \"cm.\")"
   ]
  },
  {
   "cell_type": "code",
   "execution_count": 11,
   "metadata": {},
   "outputs": [
    {
     "name": "stdout",
     "output_type": "stream",
     "text": [
      "Fill out C : 25\n",
      "77.0 F\n",
      "298.15 K\n"
     ]
    }
   ],
   "source": [
    "#ข้อที่5.โปรแกรมแปลงอุณหภูมิ\n",
    "C = float(input(\"Fill out C : \") )\n",
    "F = ((9/5) * C) + 32\n",
    "K = C +  273.15\n",
    "print(F, \"F\")\n",
    "print(K, \"K\")"
   ]
  },
  {
   "cell_type": "code",
   "execution_count": 13,
   "metadata": {},
   "outputs": [
    {
     "name": "stdout",
     "output_type": "stream",
     "text": [
      "Enter number: 12345\n",
      "5\n",
      "4\n",
      "3\n",
      "2\n",
      "1\n"
     ]
    }
   ],
   "source": [
    "#ข้อที่6.โปรแกรมรับจำนวนเต็ม \n",
    "x = input(\"Enter number: \")\n",
    "d = len(x)-1\n",
    "while d != -1:\n",
    "   print(x[d])\n",
    "   d = d-1"
   ]
  },
  {
   "cell_type": "code",
   "execution_count": 2,
   "metadata": {},
   "outputs": [
    {
     "name": "stdout",
     "output_type": "stream",
     "text": [
      "9\n",
      "8\n",
      "5\n",
      "5\n",
      "-1\n",
      "0 : \n",
      "1 : \n",
      "2 : \n",
      "3 : \n",
      "4 : \n",
      "5 : **\n",
      "6 : \n",
      "7 : \n",
      "8 : *\n",
      "9 : *\n"
     ]
    }
   ],
   "source": [
    "#ข้อที่7.โปรแกรมรับจำนวนเต็มระหว่าง 0 ถึง 9 จากนั้นแสดงแผนภาพฮิสโตแกรมที่แสดงความถี่ของข้อมูลแต่ละตัวที่ได้รับมา\n",
    "#โปรแกรมจะรับข้อมูลจากผู้ใช้จนกระทั่งผู้ใช้ป้อนข้อมูลที่น้อยกว่า 0\n",
    "#ในการแสดงฮิสโตแกรมให้แสดงความถี่ด้วยเครื่องหมาย *\n",
    "x = int(input())\n",
    "n =[[],[],[],[],[],[],[],[],[],[]]\n",
    "while x >=0 :\n",
    "    if x == 0:\n",
    "        n[0].append('*')\n",
    "    elif x == 1:\n",
    "        n[1].append('*')\n",
    "    elif x == 2:\n",
    "        n[2].append('*')\n",
    "    elif x == 3:\n",
    "        n[3].append('*')\n",
    "    elif x == 4:\n",
    "        n[4].append('*')\n",
    "    elif x == 5:\n",
    "        n[5].append('*')\n",
    "    elif x == 6:\n",
    "        n[6].append('*')\n",
    "    elif x == 7:\n",
    "        n[7].append('*')\n",
    "    elif x == 8:\n",
    "        n[8].append('*')\n",
    "    elif x == 9:\n",
    "        n[9].append('*')\n",
    "    x = int(input())\n",
    "for i in range(10):\n",
    "    sum = ''\n",
    "    for y in n[i]:\n",
    "        sum = sum+y\n",
    "    print(i,\":\",sum)"
   ]
  },
  {
   "cell_type": "code",
   "execution_count": 1,
   "metadata": {},
   "outputs": [
    {
     "name": "stdout",
     "output_type": "stream",
     "text": [
      "in-out 7:00 - 23:00\n",
      "Fill out hours in :10\n",
      "Fill out time in :15\n",
      "Fill out hours out :14\n",
      "Fill out time out :15\n",
      "50\n"
     ]
    }
   ],
   "source": [
    "#ข้อที่8.โปรแกรมคิดเงินค่าจอดรถ\n",
    "import math\n",
    "print(\"in-out 7:00 - 23:00\")\n",
    "hoursin = int(input(\"Fill out hours in :\"))\n",
    "timesin = int(input(\"Fill out time in :\"))\n",
    "hoursout = int(input(\"Fill out hours out :\"))\n",
    "timesout = int(input(\"Fill out time out :\"))\n",
    "totalhours1 = hoursout-hoursin\n",
    "totalhours2 = totalhours1*60\n",
    "totaltimes1 = timesout-timesin\n",
    "total = totalhours2+totaltimes1\n",
    "if total <=15:\n",
    "    print(\"0\")\n",
    "elif total <=360:\n",
    "    totaltime = math.ceil(total/60)\n",
    "    if totaltime <=3:\n",
    "        print(totaltime*10)\n",
    "    else:\n",
    "        total3 = totaltime-3\n",
    "        print(30+total3*20)\n",
    "else:\n",
    "    print(\"200\")"
   ]
  },
  {
   "cell_type": "code",
   "execution_count": 3,
   "metadata": {},
   "outputs": [
    {
     "name": "stdout",
     "output_type": "stream",
     "text": [
      "Enter N: 10\n",
      "Enter K: 8\n",
      "8\n"
     ]
    }
   ],
   "source": [
    "#ข้อที่9.โปรแกรมรับจำนวนเต็ม N และ K จากนั้นพิมพ์เลขตั้งแต่ 1 ถึง N ที่ K หารลงตัว\n",
    "n = int(input(\"Enter N: \"))\n",
    "k = int(input(\"Enter K: \"))\n",
    "for x in range(1,n+1):\n",
    "   if  x%k == 0:\n",
    "      print(x)"
   ]
  },
  {
   "cell_type": "code",
   "execution_count": 5,
   "metadata": {},
   "outputs": [
    {
     "name": "stdout",
     "output_type": "stream",
     "text": [
      "How many books: 5\n",
      "How much: 1000\n",
      "You have to pay 900 bath.\n"
     ]
    }
   ],
   "source": [
    "#ข้อที่10.ร้านขายหนังสือร้านหนึ่ง พยายามเพิ่มยอดขายโดยการเสนอโปรโมชั่นพิเศษ \n",
    "#ถ้าคุณซื้อหนังสือมากกว่า 3 เล่ม ที่มีมูลค่ารวมเกิน 500 บาท คุณจะได้ส่วนลด 10%\n",
    "#ให้เขียนโปรแกรมรับจำนวนหนังสือที่ซื้อและราคารวม จากนั้นคำนวณราคาที่ต้องจ่าย\n",
    "count = int(input(\"How many books: \"))\n",
    "money = int(input(\"How much: \"))\n",
    "if count > 3 and money > 500:\n",
    "   s = money-money*0.1\n",
    "else:\n",
    "   s = money\n",
    "print(\"You have to pay\",int(s),\"bath.\")"
   ]
  },
  {
   "cell_type": "code",
   "execution_count": null,
   "metadata": {},
   "outputs": [],
   "source": []
  }
 ],
 "metadata": {
  "kernelspec": {
   "display_name": "Python 3",
   "language": "python",
   "name": "python3"
  },
  "language_info": {
   "codemirror_mode": {
    "name": "ipython",
    "version": 3
   },
   "file_extension": ".py",
   "mimetype": "text/x-python",
   "name": "python",
   "nbconvert_exporter": "python",
   "pygments_lexer": "ipython3",
   "version": "3.7.3"
  }
 },
 "nbformat": 4,
 "nbformat_minor": 2
}
